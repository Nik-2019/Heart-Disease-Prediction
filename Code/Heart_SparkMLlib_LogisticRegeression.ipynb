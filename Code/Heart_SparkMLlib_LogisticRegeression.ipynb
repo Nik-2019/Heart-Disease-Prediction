{
 "cells": [
  {
   "cell_type": "code",
   "execution_count": 1,
   "metadata": {},
   "outputs": [],
   "source": [
    "from pprint import pprint\n",
    "import findspark\n",
    "findspark.init()"
   ]
  },
  {
   "cell_type": "code",
   "execution_count": 2,
   "metadata": {},
   "outputs": [],
   "source": [
    "import pandas as pd\n",
    "import numpy as np\n",
    "import matplotlib.pyplot as plt"
   ]
  },
  {
   "cell_type": "code",
   "execution_count": 3,
   "metadata": {},
   "outputs": [],
   "source": [
    "import pyspark\n",
    "from pyspark.sql import SparkSession\n",
    "spark = SparkSession.builder.master(\"local[1]\") \\\n",
    "                    .appName('SparkSession') \\\n",
    "                    .getOrCreate()"
   ]
  },
  {
   "cell_type": "code",
   "execution_count": 4,
   "metadata": {},
   "outputs": [
    {
     "name": "stdout",
     "output_type": "stream",
     "text": [
      "(303, 14)\n"
     ]
    },
    {
     "data": {
      "text/html": [
       "<div>\n",
       "<style scoped>\n",
       "    .dataframe tbody tr th:only-of-type {\n",
       "        vertical-align: middle;\n",
       "    }\n",
       "\n",
       "    .dataframe tbody tr th {\n",
       "        vertical-align: top;\n",
       "    }\n",
       "\n",
       "    .dataframe thead th {\n",
       "        text-align: right;\n",
       "    }\n",
       "</style>\n",
       "<table border=\"1\" class=\"dataframe\">\n",
       "  <thead>\n",
       "    <tr style=\"text-align: right;\">\n",
       "      <th></th>\n",
       "      <th>Age</th>\n",
       "      <th>Gender</th>\n",
       "      <th>CP</th>\n",
       "      <th>TrestBPS</th>\n",
       "      <th>Cholestrol</th>\n",
       "      <th>Fbs</th>\n",
       "      <th>RestECG</th>\n",
       "      <th>Thalach</th>\n",
       "      <th>Exang</th>\n",
       "      <th>OldPeak</th>\n",
       "      <th>Slope</th>\n",
       "      <th>Ca</th>\n",
       "      <th>Thal</th>\n",
       "      <th>Pred</th>\n",
       "    </tr>\n",
       "  </thead>\n",
       "  <tbody>\n",
       "    <tr>\n",
       "      <th>0</th>\n",
       "      <td>63</td>\n",
       "      <td>1</td>\n",
       "      <td>1</td>\n",
       "      <td>145</td>\n",
       "      <td>233</td>\n",
       "      <td>1</td>\n",
       "      <td>2</td>\n",
       "      <td>150</td>\n",
       "      <td>0</td>\n",
       "      <td>2.3</td>\n",
       "      <td>3</td>\n",
       "      <td>0.0</td>\n",
       "      <td>6.0</td>\n",
       "      <td>0</td>\n",
       "    </tr>\n",
       "    <tr>\n",
       "      <th>1</th>\n",
       "      <td>67</td>\n",
       "      <td>1</td>\n",
       "      <td>4</td>\n",
       "      <td>160</td>\n",
       "      <td>286</td>\n",
       "      <td>0</td>\n",
       "      <td>2</td>\n",
       "      <td>108</td>\n",
       "      <td>1</td>\n",
       "      <td>1.5</td>\n",
       "      <td>2</td>\n",
       "      <td>3.0</td>\n",
       "      <td>3.0</td>\n",
       "      <td>2</td>\n",
       "    </tr>\n",
       "    <tr>\n",
       "      <th>2</th>\n",
       "      <td>67</td>\n",
       "      <td>1</td>\n",
       "      <td>4</td>\n",
       "      <td>120</td>\n",
       "      <td>229</td>\n",
       "      <td>0</td>\n",
       "      <td>2</td>\n",
       "      <td>129</td>\n",
       "      <td>1</td>\n",
       "      <td>2.6</td>\n",
       "      <td>2</td>\n",
       "      <td>2.0</td>\n",
       "      <td>7.0</td>\n",
       "      <td>1</td>\n",
       "    </tr>\n",
       "    <tr>\n",
       "      <th>3</th>\n",
       "      <td>37</td>\n",
       "      <td>1</td>\n",
       "      <td>3</td>\n",
       "      <td>130</td>\n",
       "      <td>250</td>\n",
       "      <td>0</td>\n",
       "      <td>0</td>\n",
       "      <td>187</td>\n",
       "      <td>0</td>\n",
       "      <td>3.5</td>\n",
       "      <td>3</td>\n",
       "      <td>0.0</td>\n",
       "      <td>3.0</td>\n",
       "      <td>0</td>\n",
       "    </tr>\n",
       "    <tr>\n",
       "      <th>4</th>\n",
       "      <td>41</td>\n",
       "      <td>0</td>\n",
       "      <td>2</td>\n",
       "      <td>130</td>\n",
       "      <td>204</td>\n",
       "      <td>0</td>\n",
       "      <td>2</td>\n",
       "      <td>172</td>\n",
       "      <td>0</td>\n",
       "      <td>1.4</td>\n",
       "      <td>1</td>\n",
       "      <td>0.0</td>\n",
       "      <td>3.0</td>\n",
       "      <td>0</td>\n",
       "    </tr>\n",
       "  </tbody>\n",
       "</table>\n",
       "</div>"
      ],
      "text/plain": [
       "   Age  Gender  CP  TrestBPS  Cholestrol  Fbs  RestECG  Thalach  Exang  \\\n",
       "0   63       1   1       145         233    1        2      150      0   \n",
       "1   67       1   4       160         286    0        2      108      1   \n",
       "2   67       1   4       120         229    0        2      129      1   \n",
       "3   37       1   3       130         250    0        0      187      0   \n",
       "4   41       0   2       130         204    0        2      172      0   \n",
       "\n",
       "   OldPeak  Slope   Ca  Thal  Pred  \n",
       "0      2.3      3  0.0   6.0     0  \n",
       "1      1.5      2  3.0   3.0     2  \n",
       "2      2.6      2  2.0   7.0     1  \n",
       "3      3.5      3  0.0   3.0     0  \n",
       "4      1.4      1  0.0   3.0     0  "
      ]
     },
     "execution_count": 4,
     "metadata": {},
     "output_type": "execute_result"
    }
   ],
   "source": [
    "data = pd.read_csv('processed.cleveland.csv')\n",
    "print(data.shape)\n",
    "data.head()"
   ]
  },
  {
   "cell_type": "code",
   "execution_count": 5,
   "metadata": {},
   "outputs": [
    {
     "name": "stdout",
     "output_type": "stream",
     "text": [
      "Age           0\n",
      "Gender        0\n",
      "CP            0\n",
      "TrestBPS      0\n",
      "Cholestrol    0\n",
      "Fbs           0\n",
      "RestECG       0\n",
      "Thalach       0\n",
      "Exang         0\n",
      "OldPeak       0\n",
      "Slope         0\n",
      "Ca            4\n",
      "Thal          2\n",
      "Pred          0\n",
      "dtype: int64\n",
      "<class 'pandas.core.frame.DataFrame'>\n",
      "RangeIndex: 303 entries, 0 to 302\n",
      "Data columns (total 14 columns):\n",
      "Age           303 non-null int64\n",
      "Gender        303 non-null int64\n",
      "CP            303 non-null int64\n",
      "TrestBPS      303 non-null int64\n",
      "Cholestrol    303 non-null int64\n",
      "Fbs           303 non-null int64\n",
      "RestECG       303 non-null int64\n",
      "Thalach       303 non-null int64\n",
      "Exang         303 non-null int64\n",
      "OldPeak       303 non-null float64\n",
      "Slope         303 non-null int64\n",
      "Ca            303 non-null float64\n",
      "Thal          303 non-null float64\n",
      "Pred          303 non-null int64\n",
      "dtypes: float64(3), int64(11)\n",
      "memory usage: 33.2 KB\n"
     ]
    }
   ],
   "source": [
    "### 1 = male, 0 = female\n",
    "print(data.isnull().sum())\n",
    "\n",
    "data['Pred'] = data.Pred.map({0: 0, 1: 1, 2: 1, 3: 1, 4: 1})\n",
    "data['Thal'] = data.Thal.fillna(data.Thal.mean())\n",
    "data['Ca'] = data.Ca.fillna(data.Ca.mean())\n",
    "data.info()"
   ]
  },
  {
   "cell_type": "code",
   "execution_count": 6,
   "metadata": {
    "scrolled": true
   },
   "outputs": [
    {
     "name": "stdout",
     "output_type": "stream",
     "text": [
      "root\n",
      " |-- Age: long (nullable = true)\n",
      " |-- Gender: long (nullable = true)\n",
      " |-- CP: long (nullable = true)\n",
      " |-- TrestBPS: long (nullable = true)\n",
      " |-- Cholestrol: long (nullable = true)\n",
      " |-- Fbs: long (nullable = true)\n",
      " |-- RestECG: long (nullable = true)\n",
      " |-- Thalach: long (nullable = true)\n",
      " |-- Exang: long (nullable = true)\n",
      " |-- OldPeak: double (nullable = true)\n",
      " |-- Slope: long (nullable = true)\n",
      " |-- Ca: double (nullable = true)\n",
      " |-- Thal: double (nullable = true)\n",
      " |-- Pred: long (nullable = true)\n",
      "\n",
      "+---+------+---+--------+----------+---+-------+-------+-----+-------+-----+---+----+----+\n",
      "|Age|Gender| CP|TrestBPS|Cholestrol|Fbs|RestECG|Thalach|Exang|OldPeak|Slope| Ca|Thal|Pred|\n",
      "+---+------+---+--------+----------+---+-------+-------+-----+-------+-----+---+----+----+\n",
      "| 63|     1|  1|     145|       233|  1|      2|    150|    0|    2.3|    3|0.0| 6.0|   0|\n",
      "| 67|     1|  4|     160|       286|  0|      2|    108|    1|    1.5|    2|3.0| 3.0|   1|\n",
      "| 67|     1|  4|     120|       229|  0|      2|    129|    1|    2.6|    2|2.0| 7.0|   1|\n",
      "| 37|     1|  3|     130|       250|  0|      0|    187|    0|    3.5|    3|0.0| 3.0|   0|\n",
      "| 41|     0|  2|     130|       204|  0|      2|    172|    0|    1.4|    1|0.0| 3.0|   0|\n",
      "| 56|     1|  2|     120|       236|  0|      0|    178|    0|    0.8|    1|0.0| 3.0|   0|\n",
      "| 62|     0|  4|     140|       268|  0|      2|    160|    0|    3.6|    3|2.0| 3.0|   1|\n",
      "| 57|     0|  4|     120|       354|  0|      0|    163|    1|    0.6|    1|0.0| 3.0|   0|\n",
      "| 63|     1|  4|     130|       254|  0|      2|    147|    0|    1.4|    2|1.0| 7.0|   1|\n",
      "| 53|     1|  4|     140|       203|  1|      2|    155|    1|    3.1|    3|0.0| 7.0|   1|\n",
      "| 57|     1|  4|     140|       192|  0|      0|    148|    0|    0.4|    2|0.0| 6.0|   0|\n",
      "| 56|     0|  2|     140|       294|  0|      2|    153|    0|    1.3|    2|0.0| 3.0|   0|\n",
      "| 56|     1|  3|     130|       256|  1|      2|    142|    1|    0.6|    2|1.0| 6.0|   1|\n",
      "| 44|     1|  2|     120|       263|  0|      0|    173|    0|    0.0|    1|0.0| 7.0|   0|\n",
      "| 52|     1|  3|     172|       199|  1|      0|    162|    0|    0.5|    1|0.0| 7.0|   0|\n",
      "| 57|     1|  3|     150|       168|  0|      0|    174|    0|    1.6|    1|0.0| 3.0|   0|\n",
      "| 48|     1|  2|     110|       229|  0|      0|    168|    0|    1.0|    3|0.0| 7.0|   1|\n",
      "| 54|     1|  4|     140|       239|  0|      0|    160|    0|    1.2|    1|0.0| 3.0|   0|\n",
      "| 48|     0|  3|     130|       275|  0|      0|    139|    0|    0.2|    1|0.0| 3.0|   0|\n",
      "| 49|     1|  2|     130|       266|  0|      0|    171|    0|    0.6|    1|0.0| 3.0|   0|\n",
      "+---+------+---+--------+----------+---+-------+-------+-----+-------+-----+---+----+----+\n",
      "only showing top 20 rows\n",
      "\n"
     ]
    }
   ],
   "source": [
    "s_data = spark.createDataFrame(data)\n",
    "s_data.printSchema()\n",
    "s_data.show()"
   ]
  },
  {
   "cell_type": "code",
   "execution_count": 7,
   "metadata": {},
   "outputs": [
    {
     "data": {
      "text/plain": [
       "['Age',\n",
       " 'Gender',\n",
       " 'CP',\n",
       " 'TrestBPS',\n",
       " 'Cholestrol',\n",
       " 'Fbs',\n",
       " 'RestECG',\n",
       " 'Thalach',\n",
       " 'Exang',\n",
       " 'OldPeak',\n",
       " 'Slope',\n",
       " 'Ca',\n",
       " 'Thal',\n",
       " 'Pred']"
      ]
     },
     "execution_count": 7,
     "metadata": {},
     "output_type": "execute_result"
    }
   ],
   "source": [
    "s_data.columns"
   ]
  },
  {
   "cell_type": "code",
   "execution_count": 10,
   "metadata": {},
   "outputs": [
    {
     "data": {
      "text/plain": [
       "[Row(Age=63, Gender=1, CP=1, TrestBPS=145, Cholestrol=233, Fbs=1, RestECG=2, Thalach=150, Exang=0, OldPeak=2.3, Slope=3, Ca=0.0, Thal=6.0, Pred=0, features=DenseVector([63.0, 1.0, 1.0, 145.0, 233.0, 1.0, 2.0, 150.0, 0.0, 2.3, 3.0, 0.0, 6.0])),\n",
       " Row(Age=67, Gender=1, CP=4, TrestBPS=160, Cholestrol=286, Fbs=0, RestECG=2, Thalach=108, Exang=1, OldPeak=1.5, Slope=2, Ca=3.0, Thal=3.0, Pred=1, features=DenseVector([67.0, 1.0, 4.0, 160.0, 286.0, 0.0, 2.0, 108.0, 1.0, 1.5, 2.0, 3.0, 3.0])),\n",
       " Row(Age=67, Gender=1, CP=4, TrestBPS=120, Cholestrol=229, Fbs=0, RestECG=2, Thalach=129, Exang=1, OldPeak=2.6, Slope=2, Ca=2.0, Thal=7.0, Pred=1, features=DenseVector([67.0, 1.0, 4.0, 120.0, 229.0, 0.0, 2.0, 129.0, 1.0, 2.6, 2.0, 2.0, 7.0])),\n",
       " Row(Age=37, Gender=1, CP=3, TrestBPS=130, Cholestrol=250, Fbs=0, RestECG=0, Thalach=187, Exang=0, OldPeak=3.5, Slope=3, Ca=0.0, Thal=3.0, Pred=0, features=DenseVector([37.0, 1.0, 3.0, 130.0, 250.0, 0.0, 0.0, 187.0, 0.0, 3.5, 3.0, 0.0, 3.0])),\n",
       " Row(Age=41, Gender=0, CP=2, TrestBPS=130, Cholestrol=204, Fbs=0, RestECG=2, Thalach=172, Exang=0, OldPeak=1.4, Slope=1, Ca=0.0, Thal=3.0, Pred=0, features=DenseVector([41.0, 0.0, 2.0, 130.0, 204.0, 0.0, 2.0, 172.0, 0.0, 1.4, 1.0, 0.0, 3.0]))]"
      ]
     },
     "execution_count": 10,
     "metadata": {},
     "output_type": "execute_result"
    }
   ],
   "source": [
    "from pyspark.ml.linalg import Vectors\n",
    "from pyspark.ml.feature import VectorAssembler\n",
    "\n",
    "assembler = VectorAssembler(\n",
    "  inputCols=['Age','Gender','CP','TrestBPS','Cholestrol','Fbs',\n",
    "             'RestECG','Thalach','Exang','OldPeak','Slope','Ca','Thal'],\n",
    "    outputCol=\"features\")\n",
    "X = assembler.transform(s_data)\n",
    "X.take(5)"
   ]
  },
  {
   "cell_type": "code",
   "execution_count": 11,
   "metadata": {},
   "outputs": [],
   "source": [
    "s_data1 = X.select(\"features\",'Pred')\n",
    "train, test = s_data1.randomSplit([0.7,0.3])"
   ]
  },
  {
   "cell_type": "code",
   "execution_count": 12,
   "metadata": {},
   "outputs": [],
   "source": [
    "from pyspark.ml.classification import LogisticRegression"
   ]
  },
  {
   "cell_type": "code",
   "execution_count": 13,
   "metadata": {},
   "outputs": [
    {
     "name": "stdout",
     "output_type": "stream",
     "text": [
      "+----+----------+\n",
      "|Pred|prediction|\n",
      "+----+----------+\n",
      "|   0|       0.0|\n",
      "|   0|       0.0|\n",
      "|   0|       0.0|\n",
      "|   0|       0.0|\n",
      "|   0|       0.0|\n",
      "|   1|       0.0|\n",
      "|   0|       0.0|\n",
      "|   1|       1.0|\n",
      "|   1|       0.0|\n",
      "|   0|       0.0|\n",
      "+----+----------+\n",
      "only showing top 10 rows\n",
      "\n"
     ]
    }
   ],
   "source": [
    "lr = LogisticRegression(labelCol=\"Pred\",featuresCol=\"features\")\n",
    "model=lr.fit(train)\n",
    "predict_train=model.transform(train)\n",
    "predict_test=model.transform(test)\n",
    "predict_test.select(\"Pred\",\"prediction\").show(10)"
   ]
  },
  {
   "cell_type": "code",
   "execution_count": 14,
   "metadata": {},
   "outputs": [
    {
     "name": "stdout",
     "output_type": "stream",
     "text": [
      "+----+--------------------+----------+--------------------+\n",
      "|Pred|       rawPrediction|prediction|         probability|\n",
      "+----+--------------------+----------+--------------------+\n",
      "|   0|[5.71676747613526...|       0.0|[0.99672046096523...|\n",
      "|   0|[3.00297161873899...|       0.0|[0.95270819422812...|\n",
      "|   0|[3.82572753661468...|       0.0|[0.97866264160538...|\n",
      "|   0|[3.51622470652619...|       0.0|[0.97114590250225...|\n",
      "|   0|[1.57376540683172...|       0.0|[0.82831973443878...|\n",
      "+----+--------------------+----------+--------------------+\n",
      "only showing top 5 rows\n",
      "\n"
     ]
    }
   ],
   "source": [
    "from pyspark.ml.evaluation import BinaryClassificationEvaluator\n",
    "\n",
    "evaluator=BinaryClassificationEvaluator(rawPredictionCol='rawPrediction',labelCol='Pred')\n",
    "\n",
    "predict_test.select(\"Pred\",\"rawPrediction\",\"prediction\",\"probability\").show(5)\n"
   ]
  },
  {
   "cell_type": "code",
   "execution_count": 15,
   "metadata": {},
   "outputs": [
    {
     "name": "stdout",
     "output_type": "stream",
     "text": [
      "The area under ROC for train set is 0.9328746433965428\n",
      "The area under ROC for test set is 0.8941647597254001\n"
     ]
    }
   ],
   "source": [
    "print(\"The area under ROC for train set is {}\".format(evaluator.evaluate(predict_train)))\n",
    "\n",
    "print(\"The area under ROC for test set is {}\".format(evaluator.evaluate(predict_test)))"
   ]
  },
  {
   "cell_type": "code",
   "execution_count": null,
   "metadata": {},
   "outputs": [],
   "source": []
  }
 ],
 "metadata": {
  "kernelspec": {
   "display_name": "Python 3",
   "language": "python",
   "name": "python3"
  },
  "language_info": {
   "codemirror_mode": {
    "name": "ipython",
    "version": 3
   },
   "file_extension": ".py",
   "mimetype": "text/x-python",
   "name": "python",
   "nbconvert_exporter": "python",
   "pygments_lexer": "ipython3",
   "version": "3.7.0"
  }
 },
 "nbformat": 4,
 "nbformat_minor": 2
}
